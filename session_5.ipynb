{
 "cells": [
  {
   "cell_type": "markdown",
   "id": "5f4c3c4f",
   "metadata": {},
   "source": [
    "### Syntax Error"
   ]
  },
  {
   "cell_type": "code",
   "execution_count": 17,
   "id": "68254aeb",
   "metadata": {},
   "outputs": [],
   "source": [
    "def function1(a,b):\n",
    "    print(a+b)"
   ]
  },
  {
   "cell_type": "code",
   "execution_count": 18,
   "id": "f783a0a5",
   "metadata": {},
   "outputs": [
    {
     "name": "stdout",
     "output_type": "stream",
     "text": [
      "3\n"
     ]
    }
   ],
   "source": [
    "function1(1,2)"
   ]
  },
  {
   "cell_type": "code",
   "execution_count": 19,
   "id": "cfa0a0ef",
   "metadata": {},
   "outputs": [
    {
     "name": "stdout",
     "output_type": "stream",
     "text": [
      "5\n"
     ]
    }
   ],
   "source": [
    "function1(2, 3)"
   ]
  },
  {
   "cell_type": "markdown",
   "id": "1bd6a331",
   "metadata": {},
   "source": [
    "### exceptions handling"
   ]
  },
  {
   "cell_type": "code",
   "execution_count": 21,
   "id": "4bd9defa",
   "metadata": {},
   "outputs": [],
   "source": [
    "def function2(a,b):\n",
    "    print(a/b)"
   ]
  },
  {
   "cell_type": "code",
   "execution_count": 23,
   "id": "7c1ca845",
   "metadata": {},
   "outputs": [
    {
     "ename": "ZeroDivisionError",
     "evalue": "division by zero",
     "output_type": "error",
     "traceback": [
      "\u001b[0;31m---------------------------------------------------------------------------\u001b[0m",
      "\u001b[0;31mZeroDivisionError\u001b[0m                         Traceback (most recent call last)",
      "\u001b[0;32m<ipython-input-23-99d1fecc4d78>\u001b[0m in \u001b[0;36m<module>\u001b[0;34m\u001b[0m\n\u001b[0;32m----> 1\u001b[0;31m \u001b[0mfunction2\u001b[0m\u001b[0;34m(\u001b[0m\u001b[0;36m29\u001b[0m\u001b[0;34m,\u001b[0m\u001b[0;36m0\u001b[0m\u001b[0;34m)\u001b[0m\u001b[0;34m\u001b[0m\u001b[0;34m\u001b[0m\u001b[0m\n\u001b[0m",
      "\u001b[0;32m<ipython-input-21-fcba0905751a>\u001b[0m in \u001b[0;36mfunction2\u001b[0;34m(a, b)\u001b[0m\n\u001b[1;32m      1\u001b[0m \u001b[0;32mdef\u001b[0m \u001b[0mfunction2\u001b[0m\u001b[0;34m(\u001b[0m\u001b[0ma\u001b[0m\u001b[0;34m,\u001b[0m\u001b[0mb\u001b[0m\u001b[0;34m)\u001b[0m\u001b[0;34m:\u001b[0m\u001b[0;34m\u001b[0m\u001b[0;34m\u001b[0m\u001b[0m\n\u001b[0;32m----> 2\u001b[0;31m     \u001b[0mprint\u001b[0m\u001b[0;34m(\u001b[0m\u001b[0ma\u001b[0m\u001b[0;34m/\u001b[0m\u001b[0mb\u001b[0m\u001b[0;34m)\u001b[0m\u001b[0;34m\u001b[0m\u001b[0;34m\u001b[0m\u001b[0m\n\u001b[0m",
      "\u001b[0;31mZeroDivisionError\u001b[0m: division by zero"
     ]
    }
   ],
   "source": [
    "function2(29,0)"
   ]
  },
  {
   "cell_type": "code",
   "execution_count": 28,
   "id": "e14a179d",
   "metadata": {},
   "outputs": [
    {
     "name": "stdout",
     "output_type": "stream",
     "text": [
      "There is a divide by zero error\n"
     ]
    }
   ],
   "source": [
    "try:\n",
    "    a = 20\n",
    "    b = 0\n",
    "    print(a/b)\n",
    "except ZeroDivisionError:\n",
    "    print('There is a divide by zero error')"
   ]
  },
  {
   "cell_type": "code",
   "execution_count": 29,
   "id": "a6eefdd1",
   "metadata": {},
   "outputs": [
    {
     "name": "stdout",
     "output_type": "stream",
     "text": [
      "There is a divide by zero error\n",
      "This is going to execute no matter what\n"
     ]
    }
   ],
   "source": [
    "try:\n",
    "    a = 20\n",
    "    b = 0\n",
    "    print(a/b)\n",
    "except ZeroDivisionError:\n",
    "    print('There is a divide by zero error')\n",
    "finally:\n",
    "    print('This is going to execute no matter what')"
   ]
  },
  {
   "cell_type": "markdown",
   "id": "29a45648",
   "metadata": {},
   "source": [
    "### file handling"
   ]
  },
  {
   "cell_type": "code",
   "execution_count": 71,
   "id": "4f8f6a1f",
   "metadata": {},
   "outputs": [],
   "source": [
    "file = open(\"demo.txt\", mode = 'r')\n",
    "content = file.read()\n",
    "print(content)"
   ]
  },
  {
   "cell_type": "markdown",
   "id": "b438e796",
   "metadata": {},
   "source": [
    "do something with the file"
   ]
  },
  {
   "cell_type": "code",
   "execution_count": 82,
   "id": "5b99581c",
   "metadata": {},
   "outputs": [],
   "source": [
    "file = open(\"demo.txt\", mode = 'w')\n",
    "file.write(\"This is the text written to the file\")\n",
    "file.close()"
   ]
  },
  {
   "cell_type": "code",
   "execution_count": 85,
   "id": "6934beb1",
   "metadata": {},
   "outputs": [
    {
     "name": "stdout",
     "output_type": "stream",
     "text": [
      "This is the text written to the file\n"
     ]
    }
   ],
   "source": [
    "file = open(\"demo.txt\", mode = 'r')\n",
    "content = file.read()\n",
    "print(content)"
   ]
  },
  {
   "cell_type": "code",
   "execution_count": 84,
   "id": "2ff5eb8b",
   "metadata": {},
   "outputs": [],
   "source": []
  },
  {
   "cell_type": "code",
   "execution_count": null,
   "id": "ce3363f6",
   "metadata": {},
   "outputs": [],
   "source": []
  },
  {
   "cell_type": "code",
   "execution_count": null,
   "id": "384f6531",
   "metadata": {},
   "outputs": [],
   "source": []
  },
  {
   "cell_type": "code",
   "execution_count": null,
   "id": "26504ef5",
   "metadata": {},
   "outputs": [],
   "source": []
  },
  {
   "cell_type": "code",
   "execution_count": null,
   "id": "8695d7d4",
   "metadata": {},
   "outputs": [],
   "source": []
  },
  {
   "cell_type": "code",
   "execution_count": null,
   "id": "07095ea4",
   "metadata": {},
   "outputs": [],
   "source": []
  },
  {
   "cell_type": "code",
   "execution_count": null,
   "id": "68ee774b",
   "metadata": {},
   "outputs": [],
   "source": []
  },
  {
   "cell_type": "code",
   "execution_count": null,
   "id": "9fd9e739",
   "metadata": {},
   "outputs": [],
   "source": []
  }
 ],
 "metadata": {
  "kernelspec": {
   "display_name": "Python 3",
   "language": "python",
   "name": "python3"
  },
  "language_info": {
   "codemirror_mode": {
    "name": "ipython",
    "version": 3
   },
   "file_extension": ".py",
   "mimetype": "text/x-python",
   "name": "python",
   "nbconvert_exporter": "python",
   "pygments_lexer": "ipython3",
   "version": "3.8.8"
  }
 },
 "nbformat": 4,
 "nbformat_minor": 5
}
