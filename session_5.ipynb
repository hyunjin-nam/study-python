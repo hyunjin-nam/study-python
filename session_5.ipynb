{
 "cells": [
  {
   "cell_type": "markdown",
   "id": "4ee415ed",
   "metadata": {},
   "source": [
    "### Syntax Error"
   ]
  },
  {
   "cell_type": "code",
   "execution_count": 17,
   "id": "b5c5316c",
   "metadata": {},
   "outputs": [],
   "source": [
    "def function1(a,b):\n",
    "    print(a+b)"
   ]
  },
  {
   "cell_type": "code",
   "execution_count": 18,
   "id": "68044969",
   "metadata": {},
   "outputs": [
    {
     "name": "stdout",
     "output_type": "stream",
     "text": [
      "3\n"
     ]
    }
   ],
   "source": [
    "function1(1,2)"
   ]
  },
  {
   "cell_type": "code",
   "execution_count": 19,
   "id": "4cb6a7a6",
   "metadata": {},
   "outputs": [
    {
     "name": "stdout",
     "output_type": "stream",
     "text": [
      "5\n"
     ]
    }
   ],
   "source": [
    "function1(2, 3)"
   ]
  },
  {
   "cell_type": "markdown",
   "id": "80c4a7a4",
   "metadata": {},
   "source": [
    "### exceptions handling"
   ]
  },
  {
   "cell_type": "code",
   "execution_count": 21,
   "id": "aeb5a9c2",
   "metadata": {},
   "outputs": [],
   "source": [
    "def function2(a,b):\n",
    "    print(a/b)"
   ]
  },
  {
   "cell_type": "code",
   "execution_count": 23,
   "id": "60afa15e",
   "metadata": {},
   "outputs": [
    {
     "ename": "ZeroDivisionError",
     "evalue": "division by zero",
     "output_type": "error",
     "traceback": [
      "\u001b[0;31m---------------------------------------------------------------------------\u001b[0m",
      "\u001b[0;31mZeroDivisionError\u001b[0m                         Traceback (most recent call last)",
      "\u001b[0;32m<ipython-input-23-99d1fecc4d78>\u001b[0m in \u001b[0;36m<module>\u001b[0;34m\u001b[0m\n\u001b[0;32m----> 1\u001b[0;31m \u001b[0mfunction2\u001b[0m\u001b[0;34m(\u001b[0m\u001b[0;36m29\u001b[0m\u001b[0;34m,\u001b[0m\u001b[0;36m0\u001b[0m\u001b[0;34m)\u001b[0m\u001b[0;34m\u001b[0m\u001b[0;34m\u001b[0m\u001b[0m\n\u001b[0m",
      "\u001b[0;32m<ipython-input-21-fcba0905751a>\u001b[0m in \u001b[0;36mfunction2\u001b[0;34m(a, b)\u001b[0m\n\u001b[1;32m      1\u001b[0m \u001b[0;32mdef\u001b[0m \u001b[0mfunction2\u001b[0m\u001b[0;34m(\u001b[0m\u001b[0ma\u001b[0m\u001b[0;34m,\u001b[0m\u001b[0mb\u001b[0m\u001b[0;34m)\u001b[0m\u001b[0;34m:\u001b[0m\u001b[0;34m\u001b[0m\u001b[0;34m\u001b[0m\u001b[0m\n\u001b[0;32m----> 2\u001b[0;31m     \u001b[0mprint\u001b[0m\u001b[0;34m(\u001b[0m\u001b[0ma\u001b[0m\u001b[0;34m/\u001b[0m\u001b[0mb\u001b[0m\u001b[0;34m)\u001b[0m\u001b[0;34m\u001b[0m\u001b[0;34m\u001b[0m\u001b[0m\n\u001b[0m",
      "\u001b[0;31mZeroDivisionError\u001b[0m: division by zero"
     ]
    }
   ],
   "source": [
    "function2(29,0)"
   ]
  },
  {
   "cell_type": "code",
   "execution_count": 28,
   "id": "44ab034d",
   "metadata": {},
   "outputs": [
    {
     "name": "stdout",
     "output_type": "stream",
     "text": [
      "There is a divide by zero error\n"
     ]
    }
   ],
   "source": [
    "try:\n",
    "    a = 20\n",
    "    b = 0\n",
    "    print(a/b)\n",
    "except ZeroDivisionError:\n",
    "    print('There is a divide by zero error')"
   ]
  },
  {
   "cell_type": "code",
   "execution_count": 29,
   "id": "10767f0f",
   "metadata": {},
   "outputs": [
    {
     "name": "stdout",
     "output_type": "stream",
     "text": [
      "There is a divide by zero error\n",
      "This is going to execute no matter what\n"
     ]
    }
   ],
   "source": [
    "try:\n",
    "    a = 20\n",
    "    b = 0\n",
    "    print(a/b)\n",
    "except ZeroDivisionError:\n",
    "    print('There is a divide by zero error')\n",
    "finally:\n",
    "    print('This is going to execute no matter what')"
   ]
  },
  {
   "cell_type": "markdown",
   "id": "19c85f21",
   "metadata": {},
   "source": [
    "### file handling"
   ]
  },
  {
   "cell_type": "markdown",
   "id": "d5566870",
   "metadata": {},
   "source": [
    "##### write content on the txt file"
   ]
  },
  {
   "cell_type": "code",
   "execution_count": 93,
   "id": "2999c82b",
   "metadata": {},
   "outputs": [],
   "source": [
    "file = open(\"demo.txt\", mode = 'w')\n",
    "file.write(\"This is the text written to the file\")\n",
    "file.close()"
   ]
  },
  {
   "cell_type": "markdown",
   "id": "0f24382a",
   "metadata": {},
   "source": [
    "##### read content on the txt file"
   ]
  },
  {
   "cell_type": "code",
   "execution_count": 99,
   "id": "24b63350",
   "metadata": {},
   "outputs": [
    {
     "name": "stdout",
     "output_type": "stream",
     "text": [
      "This is the text written to the fileThis is the new line/This is the new line\n"
     ]
    }
   ],
   "source": [
    "file = open(\"demo.txt\", mode = 'r')\n",
    "content = file.read()\n",
    "print(content)\n",
    "file.close()"
   ]
  },
  {
   "cell_type": "markdown",
   "id": "c0b84fd9",
   "metadata": {},
   "source": [
    "##### append line on the txt line"
   ]
  },
  {
   "cell_type": "code",
   "execution_count": 98,
   "id": "fbedfd96",
   "metadata": {},
   "outputs": [],
   "source": [
    "file = open(\"demo.txt\", mode = 'a')\n",
    "file.write(\"-```´his is the new line\")\n",
    "file.close()"
   ]
  },
  {
   "cell_type": "markdown",
   "id": "57ca86f2",
   "metadata": {},
   "source": [
    "### Coding challenge 5"
   ]
  },
  {
   "cell_type": "markdown",
   "id": "60fa7719",
   "metadata": {},
   "source": [
    "Write a function which would divide two numbers, design the function in a manner that it handles the divide by zero exception."
   ]
  },
  {
   "cell_type": "code",
   "execution_count": 119,
   "id": "28fdad57",
   "metadata": {},
   "outputs": [],
   "source": [
    "def divide_two(x,y):\n",
    "    try:\n",
    "        z = x/y \n",
    "        return(z)\n",
    "    except ZeroDivisionError:\n",
    "        print('There is a divide by zero error')"
   ]
  },
  {
   "cell_type": "code",
   "execution_count": 120,
   "id": "1405b2c1",
   "metadata": {},
   "outputs": [
    {
     "name": "stdout",
     "output_type": "stream",
     "text": [
      "There is a divide by zero error\n"
     ]
    }
   ],
   "source": [
    "divide_two(10,0)"
   ]
  },
  {
   "cell_type": "markdown",
   "id": "076edc58",
   "metadata": {},
   "source": [
    "### Coding challenge 6"
   ]
  },
  {
   "cell_type": "markdown",
   "id": "ef09cc4e",
   "metadata": {},
   "source": [
    "1. Write Python code to open a file named demo.txt and write some random data into it.\n",
    "\n",
    "2. Open the file, read the contents and display them as output.\n",
    "\n",
    "3. Write python code to add additional text to the existing file on a new line without deleting the previous contents."
   ]
  },
  {
   "cell_type": "code",
   "execution_count": 131,
   "id": "1ce88ae1",
   "metadata": {},
   "outputs": [],
   "source": [
    "memo = open('demo.txt', mode = 'w')\n",
    "text = memo.write('123')\n",
    "memo.close()"
   ]
  },
  {
   "cell_type": "code",
   "execution_count": 132,
   "id": "ba3bd82a",
   "metadata": {},
   "outputs": [
    {
     "name": "stdout",
     "output_type": "stream",
     "text": [
      "123\n"
     ]
    }
   ],
   "source": [
    "memo = open('demo.txt', mode = 'r')\n",
    "text = memo.read()\n",
    "print(text)\n",
    "memo.close()"
   ]
  },
  {
   "cell_type": "code",
   "execution_count": 133,
   "id": "94875fb2",
   "metadata": {},
   "outputs": [],
   "source": [
    "memo = open('demo.txt', mode = 'a')\n",
    "text = memo.write('456')\n",
    "memo.close()"
   ]
  },
  {
   "cell_type": "code",
   "execution_count": 134,
   "id": "4616595c",
   "metadata": {},
   "outputs": [
    {
     "name": "stdout",
     "output_type": "stream",
     "text": [
      "123456\n"
     ]
    }
   ],
   "source": [
    "memo = open('demo.txt', mode = 'r')\n",
    "text = memo.read()\n",
    "print(text)\n",
    "memo.close()"
   ]
  }
 ],
 "metadata": {
  "kernelspec": {
   "display_name": "Python 3",
   "language": "python",
   "name": "python3"
  },
  "language_info": {
   "codemirror_mode": {
    "name": "ipython",
    "version": 3
   },
   "file_extension": ".py",
   "mimetype": "text/x-python",
   "name": "python",
   "nbconvert_exporter": "python",
   "pygments_lexer": "ipython3",
   "version": "3.8.8"
  }
 },
 "nbformat": 4,
 "nbformat_minor": 5
}
