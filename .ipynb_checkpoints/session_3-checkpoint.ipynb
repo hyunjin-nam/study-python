{
 "cells": [
  {
   "cell_type": "markdown",
   "id": "5898e71c",
   "metadata": {},
   "source": [
    "### if"
   ]
  },
  {
   "cell_type": "code",
   "execution_count": 1,
   "id": "2e4654ad",
   "metadata": {},
   "outputs": [
    {
     "name": "stdout",
     "output_type": "stream",
     "text": [
      "enter your age28\n",
      "you are an adult\n"
     ]
    }
   ],
   "source": [
    "age = int(input(\"enter your age\"))\n",
    "if age >= 18:\n",
    "    print(\"you are an adult\")\n",
    "else:\n",
    "    print(\" you are not an adult\")\n"
   ]
  },
  {
   "cell_type": "markdown",
   "id": "e96ba8c0",
   "metadata": {},
   "source": [
    "### elif"
   ]
  },
  {
   "cell_type": "code",
   "execution_count": null,
   "id": "9d865b40",
   "metadata": {},
   "outputs": [],
   "source": [
    "marks = int(input(\"enter your marks\"))\n",
    "if marks >= 90:\n",
    "    print(\"Grade A\")\n",
    "elif marks >= 70:\n",
    "    print(\"Grade B\")\n",
    "elif marks >= 60:\n",
    "    print(\"Grade C\")"
   ]
  },
  {
   "cell_type": "markdown",
   "id": "1cdec70b",
   "metadata": {},
   "source": [
    "### list"
   ]
  },
  {
   "cell_type": "code",
   "execution_count": 5,
   "id": "2a7d4f0b",
   "metadata": {},
   "outputs": [
    {
     "name": "stdout",
     "output_type": "stream",
     "text": [
      "Hyun\n"
     ]
    }
   ],
   "source": [
    "names = [\"Hyun\",\"jin\",\"Nam\"]\n",
    "print(names[0])"
   ]
  },
  {
   "cell_type": "code",
   "execution_count": 8,
   "id": "529a88b0",
   "metadata": {},
   "outputs": [
    {
     "name": "stdout",
     "output_type": "stream",
     "text": [
      "[0, 1, 8, 3, 4, 5]\n",
      "[0, 1, 8, 3, 4, 5, 2, 2, 2, 2, 2]\n"
     ]
    }
   ],
   "source": [
    "numbers = [0,1,2,3,4,5]\n",
    "numbers[2] = 8\n",
    "print(numbers)\n",
    "\n",
    "newnumbers = [2,2,2,2,2]\n",
    "print(numbers + newnumbers)"
   ]
  },
  {
   "cell_type": "code",
   "execution_count": 10,
   "id": "cea009b3",
   "metadata": {},
   "outputs": [
    {
     "name": "stdout",
     "output_type": "stream",
     "text": [
      "False\n",
      "True\n"
     ]
    }
   ],
   "source": [
    "fruit = [\"apple\",\"mango\",\"banana\"]\n",
    "print(\"orang\" in fruit)\n",
    "print(\"apple\" in fruit)"
   ]
  },
  {
   "cell_type": "code",
   "execution_count": 12,
   "id": "a8bf39d3",
   "metadata": {},
   "outputs": [
    {
     "name": "stdout",
     "output_type": "stream",
     "text": [
      "['apple', 'mango', 'banana', 'peach', 'peach']\n",
      "5\n"
     ]
    }
   ],
   "source": [
    "fruit.append(\"peach\")\n",
    "print(fruit)\n",
    "print(len(fruit))"
   ]
  },
  {
   "cell_type": "code",
   "execution_count": 13,
   "id": "73efcaac",
   "metadata": {},
   "outputs": [
    {
     "name": "stdout",
     "output_type": "stream",
     "text": [
      "['apple', 'blueberry', 'mango', 'banana', 'peach', 'peach']\n"
     ]
    }
   ],
   "source": [
    "fruit.insert(1,\"blueberry\")\n",
    "print(fruit)"
   ]
  },
  {
   "cell_type": "code",
   "execution_count": 15,
   "id": "67229272",
   "metadata": {},
   "outputs": [
    {
     "name": "stdout",
     "output_type": "stream",
     "text": [
      "1\n"
     ]
    }
   ],
   "source": [
    "print(fruit.index(\"blueberry\"))"
   ]
  },
  {
   "cell_type": "markdown",
   "id": "8e8a35ca",
   "metadata": {},
   "source": [
    "### range"
   ]
  },
  {
   "cell_type": "code",
   "execution_count": 24,
   "id": "ccc79da6",
   "metadata": {},
   "outputs": [
    {
     "name": "stdout",
     "output_type": "stream",
     "text": [
      "[0, 1, 2, 3, 4, 5, 6, 7, 8, 9]\n",
      "[0, 1, 2, 3, 4, 5, 6, 7, 8, 9, 10, 11, 12, 13, 14, 15, 16, 17, 18, 19, 20, 21, 22, 23, 24, 25, 26, 27, 28, 29]\n",
      "[1, 2, 3, 4, 5, 6, 7, 8, 9, 10, 11, 12, 13, 14, 15, 16, 17, 18, 19, 20, 21, 22, 23, 24, 25, 26, 27, 28, 29]\n",
      "[5, 6, 7, 8, 9, 10, 11, 12, 13, 14, 15, 16, 17, 18, 19, 20, 21, 22, 23, 24, 25, 26, 27, 28, 29]\n",
      "[1, 3, 5, 7, 9, 11, 13, 15, 17, 19, 21, 23, 25, 27, 29]\n"
     ]
    }
   ],
   "source": [
    "numbers = list(range(10))\n",
    "print(numbers)\n",
    "\n",
    "numbers = list(range(0,30))\n",
    "print(numbers)\n",
    "\n",
    "numbers = list(range(1,30))\n",
    "print(numbers)\n",
    "\n",
    "numbers = list(range(5,30))\n",
    "print(numbers)\n",
    "\n",
    "numbers = list(range(1,30,2))\n",
    "print(numbers)"
   ]
  },
  {
   "cell_type": "markdown",
   "id": "7230bad6",
   "metadata": {},
   "source": [
    "### def"
   ]
  },
  {
   "cell_type": "code",
   "execution_count": 25,
   "id": "383ef450",
   "metadata": {},
   "outputs": [],
   "source": [
    "def thisfunction():\n",
    "    print(\"a\")\n",
    "    print(\"b\")\n",
    "    print(\"c\")"
   ]
  },
  {
   "cell_type": "code",
   "execution_count": 26,
   "id": "8b808dde",
   "metadata": {},
   "outputs": [
    {
     "name": "stdout",
     "output_type": "stream",
     "text": [
      "a\n",
      "b\n",
      "c\n"
     ]
    }
   ],
   "source": [
    "thisfunction()"
   ]
  },
  {
   "cell_type": "markdown",
   "id": "f78005d6",
   "metadata": {},
   "source": [
    "### for "
   ]
  },
  {
   "cell_type": "code",
   "execution_count": 29,
   "id": "8d954739",
   "metadata": {},
   "outputs": [
    {
     "name": "stdout",
     "output_type": "stream",
     "text": [
      "1\n",
      "2\n",
      "3\n",
      "4\n",
      "5\n",
      "6\n",
      "7\n",
      "8\n",
      "9\n",
      "10\n"
     ]
    }
   ],
   "source": [
    "for x in range(1,11):\n",
    "    print(x)"
   ]
  },
  {
   "cell_type": "code",
   "execution_count": 32,
   "id": "04092236",
   "metadata": {},
   "outputs": [
    {
     "name": "stdout",
     "output_type": "stream",
     "text": [
      "apple\n",
      "banana\n",
      "blueberry\n"
     ]
    }
   ],
   "source": [
    "fruits = [\"apple\",\"banana\",\"blueberry\"]\n",
    "\n",
    "for x in fruits:\n",
    "    print(x)"
   ]
  },
  {
   "cell_type": "code",
   "execution_count": null,
   "id": "48d0c188",
   "metadata": {},
   "outputs": [],
   "source": [
    "fruits = [\"apple\",\"banana\",\"blueberry\"]\n",
    "\n",
    "for x in fruits:\n",
    "    print(x)"
   ]
  },
  {
   "cell_type": "code",
   "execution_count": null,
   "id": "b5a82c9d",
   "metadata": {},
   "outputs": [],
   "source": []
  },
  {
   "cell_type": "code",
   "execution_count": null,
   "id": "4ad09a85",
   "metadata": {},
   "outputs": [],
   "source": []
  },
  {
   "cell_type": "code",
   "execution_count": null,
   "id": "38dc7817",
   "metadata": {},
   "outputs": [],
   "source": []
  },
  {
   "cell_type": "code",
   "execution_count": null,
   "id": "db04e415",
   "metadata": {},
   "outputs": [],
   "source": []
  },
  {
   "cell_type": "code",
   "execution_count": null,
   "id": "abe611a7",
   "metadata": {},
   "outputs": [],
   "source": []
  },
  {
   "cell_type": "code",
   "execution_count": null,
   "id": "99f1e61d",
   "metadata": {},
   "outputs": [],
   "source": []
  },
  {
   "cell_type": "code",
   "execution_count": null,
   "id": "f7d8664e",
   "metadata": {},
   "outputs": [],
   "source": []
  },
  {
   "cell_type": "code",
   "execution_count": null,
   "id": "ea486306",
   "metadata": {},
   "outputs": [],
   "source": []
  },
  {
   "cell_type": "code",
   "execution_count": null,
   "id": "29e5fa66",
   "metadata": {},
   "outputs": [],
   "source": []
  },
  {
   "cell_type": "code",
   "execution_count": null,
   "id": "7974cce4",
   "metadata": {},
   "outputs": [],
   "source": []
  },
  {
   "cell_type": "code",
   "execution_count": null,
   "id": "513056eb",
   "metadata": {},
   "outputs": [],
   "source": []
  },
  {
   "cell_type": "code",
   "execution_count": null,
   "id": "11d67c91",
   "metadata": {},
   "outputs": [],
   "source": []
  },
  {
   "cell_type": "code",
   "execution_count": null,
   "id": "ab47811d",
   "metadata": {},
   "outputs": [],
   "source": []
  }
 ],
 "metadata": {
  "kernelspec": {
   "display_name": "Python 3",
   "language": "python",
   "name": "python3"
  },
  "language_info": {
   "codemirror_mode": {
    "name": "ipython",
    "version": 3
   },
   "file_extension": ".py",
   "mimetype": "text/x-python",
   "name": "python",
   "nbconvert_exporter": "python",
   "pygments_lexer": "ipython3",
   "version": "3.8.8"
  }
 },
 "nbformat": 4,
 "nbformat_minor": 5
}
