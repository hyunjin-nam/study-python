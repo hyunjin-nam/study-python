{
 "cells": [
  {
   "cell_type": "markdown",
   "id": "5898e71c",
   "metadata": {},
   "source": [
    "### if"
   ]
  },
  {
   "cell_type": "code",
   "execution_count": 1,
   "id": "2e4654ad",
   "metadata": {},
   "outputs": [
    {
     "name": "stdout",
     "output_type": "stream",
     "text": [
      "enter your age28\n",
      "you are an adult\n"
     ]
    }
   ],
   "source": [
    "age = int(input(\"enter your age\"))\n",
    "if age >= 18:\n",
    "    print(\"you are an adult\")\n",
    "else:\n",
    "    print(\" you are not an adult\")\n"
   ]
  },
  {
   "cell_type": "markdown",
   "id": "e96ba8c0",
   "metadata": {},
   "source": [
    "### elif"
   ]
  },
  {
   "cell_type": "code",
   "execution_count": null,
   "id": "9d865b40",
   "metadata": {},
   "outputs": [],
   "source": [
    "marks = int(input(\"enter your marks\"))\n",
    "if marks >= 90:\n",
    "    print(\"Grade A\")\n",
    "elif marks >= 70:\n",
    "    print(\"Grade B\")\n",
    "elif marks >= 60:\n",
    "    print(\"Grade C\")"
   ]
  },
  {
   "cell_type": "markdown",
   "id": "1cdec70b",
   "metadata": {},
   "source": [
    "### list"
   ]
  },
  {
   "cell_type": "code",
   "execution_count": 5,
   "id": "2a7d4f0b",
   "metadata": {},
   "outputs": [
    {
     "name": "stdout",
     "output_type": "stream",
     "text": [
      "Hyun\n"
     ]
    }
   ],
   "source": [
    "names = [\"Hyun\",\"jin\",\"Nam\"]\n",
    "print(names[0])"
   ]
  },
  {
   "cell_type": "code",
   "execution_count": 8,
   "id": "529a88b0",
   "metadata": {},
   "outputs": [
    {
     "name": "stdout",
     "output_type": "stream",
     "text": [
      "[0, 1, 8, 3, 4, 5]\n",
      "[0, 1, 8, 3, 4, 5, 2, 2, 2, 2, 2]\n"
     ]
    }
   ],
   "source": [
    "numbers = [0,1,2,3,4,5]\n",
    "numbers[2] = 8\n",
    "print(numbers)\n",
    "\n",
    "newnumbers = [2,2,2,2,2]\n",
    "print(numbers + newnumbers)"
   ]
  },
  {
   "cell_type": "code",
   "execution_count": 10,
   "id": "cea009b3",
   "metadata": {},
   "outputs": [
    {
     "name": "stdout",
     "output_type": "stream",
     "text": [
      "False\n",
      "True\n"
     ]
    }
   ],
   "source": [
    "fruit = [\"apple\",\"mango\",\"banana\"]\n",
    "print(\"orang\" in fruit)\n",
    "print(\"apple\" in fruit)"
   ]
  },
  {
   "cell_type": "code",
   "execution_count": 12,
   "id": "a8bf39d3",
   "metadata": {},
   "outputs": [
    {
     "name": "stdout",
     "output_type": "stream",
     "text": [
      "['apple', 'mango', 'banana', 'peach', 'peach']\n",
      "5\n"
     ]
    }
   ],
   "source": [
    "fruit.append(\"peach\")\n",
    "print(fruit)\n",
    "print(len(fruit))"
   ]
  },
  {
   "cell_type": "code",
   "execution_count": 13,
   "id": "73efcaac",
   "metadata": {},
   "outputs": [
    {
     "name": "stdout",
     "output_type": "stream",
     "text": [
      "['apple', 'blueberry', 'mango', 'banana', 'peach', 'peach']\n"
     ]
    }
   ],
   "source": [
    "fruit.insert(1,\"blueberry\")\n",
    "print(fruit)"
   ]
  },
  {
   "cell_type": "code",
   "execution_count": 15,
   "id": "67229272",
   "metadata": {},
   "outputs": [
    {
     "name": "stdout",
     "output_type": "stream",
     "text": [
      "1\n"
     ]
    }
   ],
   "source": [
    "print(fruit.index(\"blueberry\"))"
   ]
  },
  {
   "cell_type": "markdown",
   "id": "8e8a35ca",
   "metadata": {},
   "source": [
    "### range"
   ]
  },
  {
   "cell_type": "code",
   "execution_count": 24,
   "id": "ccc79da6",
   "metadata": {},
   "outputs": [
    {
     "name": "stdout",
     "output_type": "stream",
     "text": [
      "[0, 1, 2, 3, 4, 5, 6, 7, 8, 9]\n",
      "[0, 1, 2, 3, 4, 5, 6, 7, 8, 9, 10, 11, 12, 13, 14, 15, 16, 17, 18, 19, 20, 21, 22, 23, 24, 25, 26, 27, 28, 29]\n",
      "[1, 2, 3, 4, 5, 6, 7, 8, 9, 10, 11, 12, 13, 14, 15, 16, 17, 18, 19, 20, 21, 22, 23, 24, 25, 26, 27, 28, 29]\n",
      "[5, 6, 7, 8, 9, 10, 11, 12, 13, 14, 15, 16, 17, 18, 19, 20, 21, 22, 23, 24, 25, 26, 27, 28, 29]\n",
      "[1, 3, 5, 7, 9, 11, 13, 15, 17, 19, 21, 23, 25, 27, 29]\n"
     ]
    }
   ],
   "source": [
    "numbers = list(range(10))\n",
    "print(numbers)\n",
    "\n",
    "numbers = list(range(0,30))\n",
    "print(numbers)\n",
    "\n",
    "numbers = list(range(1,30))\n",
    "print(numbers)\n",
    "\n",
    "numbers = list(range(5,30))\n",
    "print(numbers)\n",
    "\n",
    "numbers = list(range(1,30,2))\n",
    "print(numbers)"
   ]
  },
  {
   "cell_type": "markdown",
   "id": "7230bad6",
   "metadata": {},
   "source": [
    "### def"
   ]
  },
  {
   "cell_type": "code",
   "execution_count": 25,
   "id": "383ef450",
   "metadata": {},
   "outputs": [],
   "source": [
    "def thisfunction():\n",
    "    print(\"a\")\n",
    "    print(\"b\")\n",
    "    print(\"c\")"
   ]
  },
  {
   "cell_type": "code",
   "execution_count": 26,
   "id": "8b808dde",
   "metadata": {},
   "outputs": [
    {
     "name": "stdout",
     "output_type": "stream",
     "text": [
      "a\n",
      "b\n",
      "c\n"
     ]
    }
   ],
   "source": [
    "thisfunction()"
   ]
  },
  {
   "cell_type": "markdown",
   "id": "f78005d6",
   "metadata": {},
   "source": [
    "### for "
   ]
  },
  {
   "cell_type": "code",
   "execution_count": 29,
   "id": "8d954739",
   "metadata": {},
   "outputs": [
    {
     "name": "stdout",
     "output_type": "stream",
     "text": [
      "1\n",
      "2\n",
      "3\n",
      "4\n",
      "5\n",
      "6\n",
      "7\n",
      "8\n",
      "9\n",
      "10\n"
     ]
    }
   ],
   "source": [
    "for x in range(1,11):\n",
    "    print(x)"
   ]
  },
  {
   "cell_type": "code",
   "execution_count": 32,
   "id": "04092236",
   "metadata": {},
   "outputs": [
    {
     "name": "stdout",
     "output_type": "stream",
     "text": [
      "apple\n",
      "banana\n",
      "blueberry\n"
     ]
    }
   ],
   "source": [
    "fruits = [\"apple\",\"banana\",\"blueberry\"]\n",
    "\n",
    "for x in fruits:\n",
    "    print(x)"
   ]
  },
  {
   "cell_type": "code",
   "execution_count": null,
   "id": "48d0c188",
   "metadata": {},
   "outputs": [],
   "source": [
    "fruits = [\"apple\",\"banana\",\"blueberry\"]\n",
    "\n",
    "for x in fruits:\n",
    "    print(x)"
   ]
  },
  {
   "cell_type": "markdown",
   "id": "6040d627",
   "metadata": {},
   "source": [
    "### Boolen"
   ]
  },
  {
   "cell_type": "code",
   "execution_count": 2,
   "id": "4ad09a85",
   "metadata": {},
   "outputs": [
    {
     "name": "stdout",
     "output_type": "stream",
     "text": [
      "invalid user\n"
     ]
    }
   ],
   "source": [
    "username = \"admin1\"\n",
    "password = \"admin123\"\n",
    "\n",
    "if username == \"admin\" and password == \"admin123\":\n",
    "    print(\"valid user\")\n",
    "else:\n",
    "    print(\"invalid user\")"
   ]
  },
  {
   "cell_type": "markdown",
   "id": "3f8c1d69",
   "metadata": {},
   "source": [
    "### while"
   ]
  },
  {
   "cell_type": "code",
   "execution_count": 3,
   "id": "db04e415",
   "metadata": {},
   "outputs": [
    {
     "name": "stdout",
     "output_type": "stream",
     "text": [
      "1\n",
      "2\n",
      "3\n",
      "4\n",
      "5\n",
      "6\n",
      "7\n",
      "8\n",
      "9\n",
      "10\n"
     ]
    }
   ],
   "source": [
    "counter = 0\n",
    "while(counter < 10):\n",
    "    counter += 1\n",
    "    print(counter)"
   ]
  },
  {
   "cell_type": "markdown",
   "id": "9f5acd46",
   "metadata": {},
   "source": [
    "## quiz"
   ]
  },
  {
   "cell_type": "markdown",
   "id": "e6d0f64d",
   "metadata": {},
   "source": [
    "1. Create a list of your favorite food items, the list should have minimum 5 elements.\n",
    "2. List out the 3rd element in the list.\n",
    "3. Add additional item to the current list and display the list.\n",
    "4. Insert an element named tacos at the 3rd index position of the list and print out the list elements."
   ]
  },
  {
   "cell_type": "code",
   "execution_count": 7,
   "id": "f7d8664e",
   "metadata": {},
   "outputs": [
    {
     "name": "stdout",
     "output_type": "stream",
     "text": [
      "['a', 'b', 'tacco', 'd', 'e', 'f']\n"
     ]
    }
   ],
   "source": [
    "food = [\"a\",\"b\",\"c\",\"d\",\"e\"]\n",
    "food[2]\n",
    "food.append(\"f\")\n",
    "food[2] = \"tacco\"\n",
    "print(food)"
   ]
  },
  {
   "cell_type": "markdown",
   "id": "4f16a483",
   "metadata": {},
   "source": [
    "Task no 1: Using a for-loop and a range function, print \"I am a programmer\" 5 times."
   ]
  },
  {
   "cell_type": "code",
   "execution_count": 10,
   "id": "29e5fa66",
   "metadata": {},
   "outputs": [
    {
     "name": "stdout",
     "output_type": "stream",
     "text": [
      "Hyunjin\n",
      "Hyunjin\n",
      "Hyunjin\n",
      "Hyunjin\n",
      "Hyunjin\n"
     ]
    }
   ],
   "source": [
    "for i in range(5):\n",
    "    print(\"Hyunjin\")"
   ]
  },
  {
   "cell_type": "markdown",
   "id": "d0f665d8",
   "metadata": {},
   "source": [
    "\n",
    "Task no 2: Create a function which displays out the square values of numbers from 1 to 9."
   ]
  },
  {
   "cell_type": "code",
   "execution_count": 37,
   "id": "7974cce4",
   "metadata": {},
   "outputs": [],
   "source": [
    "def square_function(a):\n",
    "    return(a*a)"
   ]
  },
  {
   "cell_type": "code",
   "execution_count": 39,
   "id": "513056eb",
   "metadata": {},
   "outputs": [
    {
     "name": "stdout",
     "output_type": "stream",
     "text": [
      "1\n",
      "4\n",
      "9\n",
      "16\n",
      "25\n",
      "36\n",
      "49\n",
      "64\n",
      "81\n"
     ]
    }
   ],
   "source": [
    "for i in range(1,10):\n",
    "    print(square_function(i))"
   ]
  }
 ],
 "metadata": {
  "kernelspec": {
   "display_name": "Python 3",
   "language": "python",
   "name": "python3"
  },
  "language_info": {
   "codemirror_mode": {
    "name": "ipython",
    "version": 3
   },
   "file_extension": ".py",
   "mimetype": "text/x-python",
   "name": "python",
   "nbconvert_exporter": "python",
   "pygments_lexer": "ipython3",
   "version": "3.8.8"
  }
 },
 "nbformat": 4,
 "nbformat_minor": 5
}
