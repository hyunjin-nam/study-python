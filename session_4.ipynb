{
 "cells": [
  {
   "cell_type": "markdown",
   "id": "5518ef42",
   "metadata": {},
   "source": [
    "Create a BMI calculator, BMI which stands for Body Mass Index can be calculated using the formula:\n",
    "\n",
    "\n",
    "\n",
    " BMI = (weight in Kg)/(Height in Meters)^2.\n",
    "\n",
    "\n",
    "Write python code which can accept the weight and height of a person and calculate his BMI.\n",
    "\n",
    "note: Make sure to use a function which accepts the height and weight values and returns the BMI value.\n",
    "\n",
    "For solution refer next lecture."
   ]
  },
  {
   "cell_type": "code",
   "execution_count": 13,
   "id": "251a714c",
   "metadata": {},
   "outputs": [
    {
     "name": "stdout",
     "output_type": "stream",
     "text": [
      "weight in Kg 50\n",
      "height in Kg 155\n",
      "0.002081165452653486\n"
     ]
    }
   ],
   "source": [
    "def BMI_calulator(weight, height):\n",
    "    x = (weight)/(height*height)\n",
    "    return(x)\n",
    "\n",
    "your_weight = float(input(\"weight in Kg \"))\n",
    "your_height = float(input(\"height in Kg \"))\n",
    "\n",
    "your_BMI = BMI_calulator(your_weight,your_height)\n",
    "print(your_BMI)"
   ]
  },
  {
   "cell_type": "markdown",
   "id": "17ce86b2",
   "metadata": {},
   "source": [
    "The statement return [expression] exits a function, optionally passing back an expression to the caller. A return statement with no arguments is the same as return None.All the above examples are not returning any value. \n",
    "\n",
    "You can return a value from a function as follows −\n",
    " "
   ]
  },
  {
   "cell_type": "code",
   "execution_count": 18,
   "id": "bfc57af5",
   "metadata": {},
   "outputs": [
    {
     "name": "stdout",
     "output_type": "stream",
     "text": [
      "30\n"
     ]
    }
   ],
   "source": [
    "def sum( arg1, arg2 ):\n",
    "   total = arg1 + arg2\n",
    "   return(total);\n",
    "\n",
    "\n",
    "total = sum( 10, 20 );\n",
    "print(total)"
   ]
  }
 ],
 "metadata": {
  "kernelspec": {
   "display_name": "Python 3",
   "language": "python",
   "name": "python3"
  },
  "language_info": {
   "codemirror_mode": {
    "name": "ipython",
    "version": 3
   },
   "file_extension": ".py",
   "mimetype": "text/x-python",
   "name": "python",
   "nbconvert_exporter": "python",
   "pygments_lexer": "ipython3",
   "version": "3.8.8"
  }
 },
 "nbformat": 4,
 "nbformat_minor": 5
}
